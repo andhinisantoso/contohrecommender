{
  "cells": [
    {
      "cell_type": "code",
      "execution_count": null,
      "metadata": {
        "id": "9c29dd46"
      },
      "outputs": [],
      "source": [
        "##Import Libraries\n",
        "import pandas as pd\n",
        "import string \n",
        "import re\n",
        "import nltk\n",
        "from nltk.tokenize import word_tokenize\n",
        "import pickle "
      ],
      "id": "9c29dd46"
    },
    {
      "cell_type": "code",
      "execution_count": null,
      "metadata": {
        "colab": {
          "base_uri": "https://localhost:8080/"
        },
        "id": "jomxYCfPdtkR",
        "outputId": "f0825202-bea3-4489-8dae-c1e5eb5c519c"
      },
      "outputs": [
        {
          "output_type": "stream",
          "name": "stdout",
          "text": [
            "/usr/local/lib/python3.7/dist-packages/gdown/cli.py:131: FutureWarning: Option `--id` was deprecated in version 4.3.1 and will be removed in 5.0. You don't need to pass it anymore to use a file ID.\n",
            "  category=FutureWarning,\n",
            "Downloading...\n",
            "From: https://drive.google.com/uc?id=1ocv9n_G3ltsmdnYDMHGPnko3-IXAwAxU\n",
            "To: /content/baliwisata.csv\n",
            "100% 33.7k/33.7k [00:00<00:00, 18.9MB/s]\n"
          ]
        }
      ],
      "source": [
        "!gdown --id 1ocv9n_G3ltsmdnYDMHGPnko3-IXAwAxU"
      ],
      "id": "jomxYCfPdtkR"
    },
    {
      "cell_type": "code",
      "execution_count": null,
      "metadata": {
        "id": "f2ea2cb1",
        "colab": {
          "base_uri": "https://localhost:8080/",
          "height": 652
        },
        "outputId": "dffcd973-cc5b-4b1f-cc9c-96dd15d1b2b8"
      },
      "outputs": [
        {
          "output_type": "execute_result",
          "data": {
            "text/plain": [
              "         category                                             tags  \\\n",
              "0  ['Agrowisata']   Agrowisata, Gianyar, Dekat dari Bandara, Mahal   \n",
              "1  ['Agrowisata']  Agrowisata, Gianyar, Sedang dari Bandara, Mahal   \n",
              "2  ['Agrowisata']  Agrowisata, Denpasar, Dekat dari Bandara, Murah   \n",
              "3  ['Agrowisata']  Agrowisata, Gianyar, Dekat dari Bandara, Gratis   \n",
              "4  ['Agrowisata']  Agrowisata, Tabanan, Sedang dari Bandara, Murah   \n",
              "\n",
              "   weekend_price  weekday_price distance  rating            place_name  \\\n",
              "0          50000          50000    dekat     3.0     Agrowisata Satria   \n",
              "1         300000         300000   sedang     5.0      Aloha Ubud Swing   \n",
              "2          35000          30000    dekat     4.0     Big Garden Corner   \n",
              "3              0              0    dekat     4.5   Campuhan Ridge Walk   \n",
              "4          40000          40000   sedang     4.5  Jatiluwih Green Land   \n",
              "\n",
              "       city                                              image  \\\n",
              "0   Gianyar  https://drive.google.com/file/d/108VxoEhKsyV2_...   \n",
              "1   Gianyar  https://drive.google.com/file/d/1bvzte6xbyb6Ey...   \n",
              "2  Denpasar  https://drive.google.com/file/d/12UMKldf_s7zGI...   \n",
              "3   Gianyar  https://drive.google.com/file/d/1eVpiUN3lv1uzV...   \n",
              "4   Tabanan  https://drive.google.com/file/d/1vX9x5gLEmQKdg...   \n",
              "\n",
              "                                         description  \n",
              "0  ['Agrowisata Satria menawarkan 'rasa' Bali pad...  \n",
              "1  ['Ajaklah orang-orang tercinta untuk mencoba a...  \n",
              "2  ['Objek wisata Big Garden Corner Sanur adalah ...  \n",
              "3  ['Campuhan Ridge Walk adalah sebuah trek joggi...  \n",
              "4  ['Nominasi untuk penunjukan sebagai situs Wari...  "
            ],
            "text/html": [
              "\n",
              "  <div id=\"df-727c3524-0233-4dd5-bcc6-56b88379c7ca\">\n",
              "    <div class=\"colab-df-container\">\n",
              "      <div>\n",
              "<style scoped>\n",
              "    .dataframe tbody tr th:only-of-type {\n",
              "        vertical-align: middle;\n",
              "    }\n",
              "\n",
              "    .dataframe tbody tr th {\n",
              "        vertical-align: top;\n",
              "    }\n",
              "\n",
              "    .dataframe thead th {\n",
              "        text-align: right;\n",
              "    }\n",
              "</style>\n",
              "<table border=\"1\" class=\"dataframe\">\n",
              "  <thead>\n",
              "    <tr style=\"text-align: right;\">\n",
              "      <th></th>\n",
              "      <th>category</th>\n",
              "      <th>tags</th>\n",
              "      <th>weekend_price</th>\n",
              "      <th>weekday_price</th>\n",
              "      <th>distance</th>\n",
              "      <th>rating</th>\n",
              "      <th>place_name</th>\n",
              "      <th>city</th>\n",
              "      <th>image</th>\n",
              "      <th>description</th>\n",
              "    </tr>\n",
              "  </thead>\n",
              "  <tbody>\n",
              "    <tr>\n",
              "      <th>0</th>\n",
              "      <td>['Agrowisata']</td>\n",
              "      <td>Agrowisata, Gianyar, Dekat dari Bandara, Mahal</td>\n",
              "      <td>50000</td>\n",
              "      <td>50000</td>\n",
              "      <td>dekat</td>\n",
              "      <td>3.0</td>\n",
              "      <td>Agrowisata Satria</td>\n",
              "      <td>Gianyar</td>\n",
              "      <td>https://drive.google.com/file/d/108VxoEhKsyV2_...</td>\n",
              "      <td>['Agrowisata Satria menawarkan 'rasa' Bali pad...</td>\n",
              "    </tr>\n",
              "    <tr>\n",
              "      <th>1</th>\n",
              "      <td>['Agrowisata']</td>\n",
              "      <td>Agrowisata, Gianyar, Sedang dari Bandara, Mahal</td>\n",
              "      <td>300000</td>\n",
              "      <td>300000</td>\n",
              "      <td>sedang</td>\n",
              "      <td>5.0</td>\n",
              "      <td>Aloha Ubud Swing</td>\n",
              "      <td>Gianyar</td>\n",
              "      <td>https://drive.google.com/file/d/1bvzte6xbyb6Ey...</td>\n",
              "      <td>['Ajaklah orang-orang tercinta untuk mencoba a...</td>\n",
              "    </tr>\n",
              "    <tr>\n",
              "      <th>2</th>\n",
              "      <td>['Agrowisata']</td>\n",
              "      <td>Agrowisata, Denpasar, Dekat dari Bandara, Murah</td>\n",
              "      <td>35000</td>\n",
              "      <td>30000</td>\n",
              "      <td>dekat</td>\n",
              "      <td>4.0</td>\n",
              "      <td>Big Garden Corner</td>\n",
              "      <td>Denpasar</td>\n",
              "      <td>https://drive.google.com/file/d/12UMKldf_s7zGI...</td>\n",
              "      <td>['Objek wisata Big Garden Corner Sanur adalah ...</td>\n",
              "    </tr>\n",
              "    <tr>\n",
              "      <th>3</th>\n",
              "      <td>['Agrowisata']</td>\n",
              "      <td>Agrowisata, Gianyar, Dekat dari Bandara, Gratis</td>\n",
              "      <td>0</td>\n",
              "      <td>0</td>\n",
              "      <td>dekat</td>\n",
              "      <td>4.5</td>\n",
              "      <td>Campuhan Ridge Walk</td>\n",
              "      <td>Gianyar</td>\n",
              "      <td>https://drive.google.com/file/d/1eVpiUN3lv1uzV...</td>\n",
              "      <td>['Campuhan Ridge Walk adalah sebuah trek joggi...</td>\n",
              "    </tr>\n",
              "    <tr>\n",
              "      <th>4</th>\n",
              "      <td>['Agrowisata']</td>\n",
              "      <td>Agrowisata, Tabanan, Sedang dari Bandara, Murah</td>\n",
              "      <td>40000</td>\n",
              "      <td>40000</td>\n",
              "      <td>sedang</td>\n",
              "      <td>4.5</td>\n",
              "      <td>Jatiluwih Green Land</td>\n",
              "      <td>Tabanan</td>\n",
              "      <td>https://drive.google.com/file/d/1vX9x5gLEmQKdg...</td>\n",
              "      <td>['Nominasi untuk penunjukan sebagai situs Wari...</td>\n",
              "    </tr>\n",
              "  </tbody>\n",
              "</table>\n",
              "</div>\n",
              "      <button class=\"colab-df-convert\" onclick=\"convertToInteractive('df-727c3524-0233-4dd5-bcc6-56b88379c7ca')\"\n",
              "              title=\"Convert this dataframe to an interactive table.\"\n",
              "              style=\"display:none;\">\n",
              "        \n",
              "  <svg xmlns=\"http://www.w3.org/2000/svg\" height=\"24px\"viewBox=\"0 0 24 24\"\n",
              "       width=\"24px\">\n",
              "    <path d=\"M0 0h24v24H0V0z\" fill=\"none\"/>\n",
              "    <path d=\"M18.56 5.44l.94 2.06.94-2.06 2.06-.94-2.06-.94-.94-2.06-.94 2.06-2.06.94zm-11 1L8.5 8.5l.94-2.06 2.06-.94-2.06-.94L8.5 2.5l-.94 2.06-2.06.94zm10 10l.94 2.06.94-2.06 2.06-.94-2.06-.94-.94-2.06-.94 2.06-2.06.94z\"/><path d=\"M17.41 7.96l-1.37-1.37c-.4-.4-.92-.59-1.43-.59-.52 0-1.04.2-1.43.59L10.3 9.45l-7.72 7.72c-.78.78-.78 2.05 0 2.83L4 21.41c.39.39.9.59 1.41.59.51 0 1.02-.2 1.41-.59l7.78-7.78 2.81-2.81c.8-.78.8-2.07 0-2.86zM5.41 20L4 18.59l7.72-7.72 1.47 1.35L5.41 20z\"/>\n",
              "  </svg>\n",
              "      </button>\n",
              "      \n",
              "  <style>\n",
              "    .colab-df-container {\n",
              "      display:flex;\n",
              "      flex-wrap:wrap;\n",
              "      gap: 12px;\n",
              "    }\n",
              "\n",
              "    .colab-df-convert {\n",
              "      background-color: #E8F0FE;\n",
              "      border: none;\n",
              "      border-radius: 50%;\n",
              "      cursor: pointer;\n",
              "      display: none;\n",
              "      fill: #1967D2;\n",
              "      height: 32px;\n",
              "      padding: 0 0 0 0;\n",
              "      width: 32px;\n",
              "    }\n",
              "\n",
              "    .colab-df-convert:hover {\n",
              "      background-color: #E2EBFA;\n",
              "      box-shadow: 0px 1px 2px rgba(60, 64, 67, 0.3), 0px 1px 3px 1px rgba(60, 64, 67, 0.15);\n",
              "      fill: #174EA6;\n",
              "    }\n",
              "\n",
              "    [theme=dark] .colab-df-convert {\n",
              "      background-color: #3B4455;\n",
              "      fill: #D2E3FC;\n",
              "    }\n",
              "\n",
              "    [theme=dark] .colab-df-convert:hover {\n",
              "      background-color: #434B5C;\n",
              "      box-shadow: 0px 1px 3px 1px rgba(0, 0, 0, 0.15);\n",
              "      filter: drop-shadow(0px 1px 2px rgba(0, 0, 0, 0.3));\n",
              "      fill: #FFFFFF;\n",
              "    }\n",
              "  </style>\n",
              "\n",
              "      <script>\n",
              "        const buttonEl =\n",
              "          document.querySelector('#df-727c3524-0233-4dd5-bcc6-56b88379c7ca button.colab-df-convert');\n",
              "        buttonEl.style.display =\n",
              "          google.colab.kernel.accessAllowed ? 'block' : 'none';\n",
              "\n",
              "        async function convertToInteractive(key) {\n",
              "          const element = document.querySelector('#df-727c3524-0233-4dd5-bcc6-56b88379c7ca');\n",
              "          const dataTable =\n",
              "            await google.colab.kernel.invokeFunction('convertToInteractive',\n",
              "                                                     [key], {});\n",
              "          if (!dataTable) return;\n",
              "\n",
              "          const docLinkHtml = 'Like what you see? Visit the ' +\n",
              "            '<a target=\"_blank\" href=https://colab.research.google.com/notebooks/data_table.ipynb>data table notebook</a>'\n",
              "            + ' to learn more about interactive tables.';\n",
              "          element.innerHTML = '';\n",
              "          dataTable['output_type'] = 'display_data';\n",
              "          await google.colab.output.renderOutput(dataTable, element);\n",
              "          const docLink = document.createElement('div');\n",
              "          docLink.innerHTML = docLinkHtml;\n",
              "          element.appendChild(docLink);\n",
              "        }\n",
              "      </script>\n",
              "    </div>\n",
              "  </div>\n",
              "  "
            ]
          },
          "metadata": {},
          "execution_count": 4
        }
      ],
      "source": [
        "dataset=pd.read_csv(\"baliwisata.csv\")\n",
        "dataset.head()"
      ],
      "id": "f2ea2cb1"
    },
    {
      "cell_type": "code",
      "execution_count": null,
      "metadata": {
        "colab": {
          "base_uri": "https://localhost:8080/"
        },
        "id": "93072be1",
        "outputId": "f4c7cf23-9e3d-45f5-97dd-d843b9516d1c"
      },
      "outputs": [
        {
          "output_type": "execute_result",
          "data": {
            "text/plain": [
              "(75, 10)"
            ]
          },
          "metadata": {},
          "execution_count": 5
        }
      ],
      "source": [
        "dataset.shape"
      ],
      "id": "93072be1"
    },
    {
      "cell_type": "code",
      "execution_count": null,
      "metadata": {
        "colab": {
          "base_uri": "https://localhost:8080/"
        },
        "id": "58207082",
        "outputId": "be529c51-a58b-44d9-a918-61ca17f3aa5b"
      },
      "outputs": [
        {
          "output_type": "stream",
          "name": "stdout",
          "text": [
            "<class 'pandas.core.frame.DataFrame'>\n",
            "RangeIndex: 75 entries, 0 to 74\n",
            "Data columns (total 10 columns):\n",
            " #   Column         Non-Null Count  Dtype  \n",
            "---  ------         --------------  -----  \n",
            " 0   category       75 non-null     object \n",
            " 1   tags           75 non-null     object \n",
            " 2   weekend_price  75 non-null     int64  \n",
            " 3   weekday_price  75 non-null     int64  \n",
            " 4   distance       75 non-null     object \n",
            " 5   rating         75 non-null     float64\n",
            " 6   place_name     75 non-null     object \n",
            " 7   city           75 non-null     object \n",
            " 8   image          75 non-null     object \n",
            " 9   description    75 non-null     object \n",
            "dtypes: float64(1), int64(2), object(7)\n",
            "memory usage: 6.0+ KB\n"
          ]
        }
      ],
      "source": [
        "dataset.info()"
      ],
      "id": "58207082"
    },
    {
      "cell_type": "markdown",
      "metadata": {
        "id": "e5c965ac"
      },
      "source": [
        "# Pre-Processing"
      ],
      "id": "e5c965ac"
    },
    {
      "cell_type": "markdown",
      "metadata": {
        "id": "8uLMA-wcGb2N"
      },
      "source": [
        "## Case Folding"
      ],
      "id": "8uLMA-wcGb2N"
    },
    {
      "cell_type": "code",
      "execution_count": null,
      "metadata": {
        "colab": {
          "base_uri": "https://localhost:8080/"
        },
        "id": "sAY-jXXpGhRo",
        "outputId": "dde2747a-9547-4f9a-8ec6-fd52bbc523a6"
      },
      "outputs": [
        {
          "output_type": "stream",
          "name": "stdout",
          "text": [
            "Case Folding Result : \n",
            "\n",
            "0    ['agrowisata']\n",
            "1    ['agrowisata']\n",
            "2    ['agrowisata']\n",
            "3    ['agrowisata']\n",
            "4    ['agrowisata']\n",
            "Name: category, dtype: object\n",
            "\n",
            "\n",
            "\n",
            "\n"
          ]
        }
      ],
      "source": [
        "# lower category\n",
        "cat = dataset.category.str.lower()\n",
        "\n",
        "print('Case Folding Result : \\n')\n",
        "print(cat.head())\n",
        "print('\\n\\n\\n')"
      ],
      "id": "sAY-jXXpGhRo"
    },
    {
      "cell_type": "code",
      "execution_count": null,
      "metadata": {
        "colab": {
          "base_uri": "https://localhost:8080/"
        },
        "id": "zH3i_PhEGp6r",
        "outputId": "040a7112-c6f9-4189-9496-16136ce195c6"
      },
      "outputs": [
        {
          "output_type": "stream",
          "name": "stdout",
          "text": [
            "Case Folding Result : \n",
            "\n",
            "0     agrowisata, gianyar, dekat dari bandara, mahal\n",
            "1    agrowisata, gianyar, sedang dari bandara, mahal\n",
            "2    agrowisata, denpasar, dekat dari bandara, murah\n",
            "3    agrowisata, gianyar, dekat dari bandara, gratis\n",
            "4    agrowisata, tabanan, sedang dari bandara, murah\n",
            "Name: tags, dtype: object\n",
            "\n",
            "\n",
            "\n",
            "\n"
          ]
        }
      ],
      "source": [
        "# lower tags\n",
        "tag = dataset.tags.str.lower()\n",
        "\n",
        "print('Case Folding Result : \\n')\n",
        "print(tag.head())\n",
        "print('\\n\\n\\n')"
      ],
      "id": "zH3i_PhEGp6r"
    },
    {
      "cell_type": "code",
      "execution_count": null,
      "metadata": {
        "colab": {
          "base_uri": "https://localhost:8080/"
        },
        "id": "3NiMvK0sG5dF",
        "outputId": "f1a1a1a4-b0dd-4107-fd1a-630005cb6745"
      },
      "outputs": [
        {
          "output_type": "stream",
          "name": "stdout",
          "text": [
            "Case Folding Result : \n",
            "\n",
            "0    ['agrowisata satria menawarkan 'rasa' bali pad...\n",
            "1    ['ajaklah orang-orang tercinta untuk mencoba a...\n",
            "2    ['objek wisata big garden corner sanur adalah ...\n",
            "3    ['campuhan ridge walk adalah sebuah trek joggi...\n",
            "4    ['nominasi untuk penunjukan sebagai situs wari...\n",
            "Name: description, dtype: object\n",
            "\n",
            "\n",
            "\n",
            "\n"
          ]
        }
      ],
      "source": [
        "# lower description\n",
        "desc = dataset.description.str.lower()\n",
        "\n",
        "print('Case Folding Result : \\n')\n",
        "print(desc.head())\n",
        "print('\\n\\n\\n')"
      ],
      "id": "3NiMvK0sG5dF"
    },
    {
      "cell_type": "markdown",
      "source": [
        "##Remove Character"
      ],
      "metadata": {
        "id": "xj2HkeqbGbGP"
      },
      "id": "xj2HkeqbGbGP"
    },
    {
      "cell_type": "code",
      "source": [
        "#Remove Character Ingredients\n",
        "cat = dataset.category.apply(str)\n",
        "\n",
        "def remove_character(data):\n",
        "    return re.sub(r\"'\", \"\", data)\n",
        "\n",
        "cat = cat.apply(remove_character)\n",
        "\n",
        "def listToStringWithoutBrackets(data):\n",
        "    return str(data).replace('[','').replace(']','')\n",
        "\n",
        "cat = cat.apply(listToStringWithoutBrackets)\n",
        "\n",
        "print(cat)"
      ],
      "metadata": {
        "colab": {
          "base_uri": "https://localhost:8080/"
        },
        "id": "0FcPlfSkGdea",
        "outputId": "7f541f49-5a27-4922-ce10-c4b2666db87a"
      },
      "id": "0FcPlfSkGdea",
      "execution_count": null,
      "outputs": [
        {
          "output_type": "stream",
          "name": "stdout",
          "text": [
            "0     Agrowisata\n",
            "1     Agrowisata\n",
            "2     Agrowisata\n",
            "3     Agrowisata\n",
            "4     Agrowisata\n",
            "         ...    \n",
            "70      Religius\n",
            "71      Religius\n",
            "72      Religius\n",
            "73      Religius\n",
            "74      Religius\n",
            "Name: category, Length: 75, dtype: object\n"
          ]
        }
      ]
    },
    {
      "cell_type": "code",
      "source": [
        "tag = dataset.tags.apply(str)\n",
        "\n",
        "def remove_character(data):\n",
        "    return re.sub(r\"'\", \"\", data)\n",
        "\n",
        "tag = tag.apply(remove_character)\n",
        "print(tag)"
      ],
      "metadata": {
        "colab": {
          "base_uri": "https://localhost:8080/"
        },
        "id": "o91DjVYGG-aR",
        "outputId": "cc6a78f4-4ebc-4cfa-cb5c-bd8d693e9e38"
      },
      "id": "o91DjVYGG-aR",
      "execution_count": null,
      "outputs": [
        {
          "output_type": "stream",
          "name": "stdout",
          "text": [
            "0      Agrowisata, Gianyar, Dekat dari Bandara, Mahal\n",
            "1     Agrowisata, Gianyar, Sedang dari Bandara, Mahal\n",
            "2     Agrowisata, Denpasar, Dekat dari Bandara, Murah\n",
            "3     Agrowisata, Gianyar, Dekat dari Bandara, Gratis\n",
            "4     Agrowisata, Tabanan, Sedang dari Bandara, Murah\n",
            "                           ...                       \n",
            "70      Religius, Gianyar, Dekat dari Bandara, Gratis\n",
            "71        Religius, Badung, Dekat dari Bandara, Murah\n",
            "72      Religius, Gianyar, Sedang dari Bandara, Murah\n",
            "73        Religius, Badung, Dekat dari Bandara, Mahal\n",
            "74     Religius, Karangasem, Jauh dari Bandara, Murah\n",
            "Name: tags, Length: 75, dtype: object\n"
          ]
        }
      ]
    },
    {
      "cell_type": "markdown",
      "metadata": {
        "id": "Mtm6ZpOCMH0l"
      },
      "source": [
        "## Tokenizing"
      ],
      "id": "Mtm6ZpOCMH0l"
    },
    {
      "cell_type": "code",
      "execution_count": null,
      "metadata": {
        "colab": {
          "base_uri": "https://localhost:8080/"
        },
        "id": "X_c0GgpBMMPH",
        "outputId": "f1e6f292-c53b-4d61-f4e4-d3aebb615cdd"
      },
      "outputs": [
        {
          "output_type": "stream",
          "name": "stderr",
          "text": [
            "[nltk_data] Downloading package punkt to /root/nltk_data...\n",
            "[nltk_data]   Unzipping tokenizers/punkt.zip.\n"
          ]
        },
        {
          "output_type": "execute_result",
          "data": {
            "text/plain": [
              "True"
            ]
          },
          "metadata": {},
          "execution_count": 12
        }
      ],
      "source": [
        "nltk.download('punkt')"
      ],
      "id": "X_c0GgpBMMPH"
    },
    {
      "cell_type": "code",
      "execution_count": null,
      "metadata": {
        "colab": {
          "base_uri": "https://localhost:8080/"
        },
        "id": "hRhrnkpSMGdt",
        "outputId": "524a6534-ddd4-4775-a76a-c9b927bde9ed"
      },
      "outputs": [
        {
          "output_type": "stream",
          "name": "stdout",
          "text": [
            "Tokenizing Result : \n",
            "\n",
            "0    [Agrowisata, Gianyar, Dekat, dari, Bandara, Ma...\n",
            "1    [Agrowisata, Gianyar, Sedang, dari, Bandara, M...\n",
            "2    [Agrowisata, Denpasar, Dekat, dari, Bandara, M...\n",
            "3    [Agrowisata, Gianyar, Dekat, dari, Bandara, Gr...\n",
            "4    [Agrowisata, Tabanan, Sedang, dari, Bandara, M...\n",
            "Name: tags, dtype: object\n",
            "\n",
            "\n",
            "\n",
            "\n"
          ]
        }
      ],
      "source": [
        "def remove_tweet_special(text):\n",
        "    # remove tab, new line, ans back slice\n",
        "    text = text.replace('\\\\t',\" \").replace('\\\\n',\" \").replace('\\\\u',\" \").replace('\\\\',\"\")\n",
        "    # remove non ASCII (emoticon, chinese word, .etc)\n",
        "    text = text.encode('ascii', 'replace').decode('ascii')\n",
        "    # remove mention, link, hashtag\n",
        "    text = ' '.join(re.sub(\"([@#][A-Za-z0-9]+)|(\\w+:\\/\\/\\S+)\",\" \", text).split())\n",
        "    # remove incomplete URL\n",
        "    return text.replace(\"http://\", \" \").replace(\"https://\", \" \")\n",
        "                \n",
        "tag = tag.apply(remove_tweet_special)\n",
        "\n",
        "#remove number\n",
        "def remove_number(text):\n",
        "    return  re.sub(r\"\\d+\", \"\", text)\n",
        "\n",
        "tag = tag.apply(remove_number)\n",
        "\n",
        "#remove punctuation\n",
        "def remove_punctuation(text):\n",
        "    return text.translate(str.maketrans(\"\",\"\",string.punctuation))\n",
        "tag = tag.apply(remove_punctuation)\n",
        "\n",
        "#remove whitespace leading & trailing\n",
        "def remove_whitespace_LT(text):\n",
        "    return text.strip()\n",
        "\n",
        "tag = tag.apply(remove_whitespace_LT)\n",
        "\n",
        "#remove multiple whitespace into single whitespace\n",
        "def remove_whitespace_multiple(text):\n",
        "    return re.sub('\\s+',' ',text)\n",
        "\n",
        "tag = tag.apply(remove_whitespace_multiple)\n",
        "\n",
        "# remove single char\n",
        "def remove_singl_char(text):\n",
        "    return re.sub(r\"\\b[a-zA-Z]\\b\", \"\", text)\n",
        "\n",
        "tag = tag.apply(remove_singl_char)\n",
        "\n",
        "# NLTK word rokenize \n",
        "def word_tokenize_wrapper(text):\n",
        "    return word_tokenize(text)\n",
        "\n",
        "tag_tokens = tag.apply(word_tokenize_wrapper)\n",
        "\n",
        "print('Tokenizing Result : \\n') \n",
        "print(tag_tokens.head())\n",
        "print('\\n\\n\\n')"
      ],
      "id": "hRhrnkpSMGdt"
    },
    {
      "cell_type": "code",
      "execution_count": null,
      "metadata": {
        "colab": {
          "base_uri": "https://localhost:8080/",
          "height": 1000
        },
        "id": "g8h8ZPXEdTJV",
        "outputId": "26632bf5-04e5-41d5-b78c-9b842f4f2d3c"
      },
      "outputs": [
        {
          "output_type": "execute_result",
          "data": {
            "text/plain": [
              "      category                                          tags  weekend_price  \\\n",
              "0   Agrowisata   Agrowisata Gianyar Dekat dari Bandara Mahal          50000   \n",
              "1   Agrowisata  Agrowisata Gianyar Sedang dari Bandara Mahal         300000   \n",
              "2   Agrowisata  Agrowisata Denpasar Dekat dari Bandara Murah          35000   \n",
              "3   Agrowisata  Agrowisata Gianyar Dekat dari Bandara Gratis              0   \n",
              "4   Agrowisata  Agrowisata Tabanan Sedang dari Bandara Murah          40000   \n",
              "..         ...                                           ...            ...   \n",
              "70    Religius    Religius Gianyar Dekat dari Bandara Gratis              0   \n",
              "71    Religius      Religius Badung Dekat dari Bandara Murah          15000   \n",
              "72    Religius    Religius Gianyar Sedang dari Bandara Murah          30000   \n",
              "73    Religius      Religius Badung Dekat dari Bandara Mahal          50000   \n",
              "74    Religius   Religius Karangasem Jauh dari Bandara Murah          25000   \n",
              "\n",
              "    weekday_price distance  rating            place_name        city  \\\n",
              "0           50000    dekat     3.0     Agrowisata Satria     Gianyar   \n",
              "1          300000   sedang     5.0      Aloha Ubud Swing     Gianyar   \n",
              "2           30000    dekat     4.0     Big Garden Corner    Denpasar   \n",
              "3               0    dekat     4.5   Campuhan Ridge Walk     Gianyar   \n",
              "4           40000   sedang     4.5  Jatiluwih Green Land     Tabanan   \n",
              "..            ...      ...     ...                   ...         ...   \n",
              "70              0    dekat     4.0        Pura Saraswati     Gianyar   \n",
              "71          15000    dekat     4.0       Pura Taman Ayun      Badung   \n",
              "72          30000   sedang     4.5      Pura Tirta Empul     Gianyar   \n",
              "73          50000    dekat     4.0          Pura Uluwatu      Badung   \n",
              "74          25000     jauh     4.5          Tirta Gangga  Karangasem   \n",
              "\n",
              "                                                image  \\\n",
              "0   https://drive.google.com/file/d/108VxoEhKsyV2_...   \n",
              "1   https://drive.google.com/file/d/1bvzte6xbyb6Ey...   \n",
              "2   https://drive.google.com/file/d/12UMKldf_s7zGI...   \n",
              "3   https://drive.google.com/file/d/1eVpiUN3lv1uzV...   \n",
              "4   https://drive.google.com/file/d/1vX9x5gLEmQKdg...   \n",
              "..                                                ...   \n",
              "70  https://drive.google.com/file/d/13cUb10qppNS-U...   \n",
              "71  https://drive.google.com/file/d/1PL_N2I8BD4Ylj...   \n",
              "72  https://drive.google.com/file/d/1-q6YUrkNSTtiM...   \n",
              "73  https://drive.google.com/file/d/1-q6YUrkNSTtiM...   \n",
              "74  https://drive.google.com/file/d/11G0xeW6eAGzd1...   \n",
              "\n",
              "                                          description  \n",
              "0   ['agrowisata satria menawarkan 'rasa' bali pad...  \n",
              "1   ['ajaklah orang-orang tercinta untuk mencoba a...  \n",
              "2   ['objek wisata big garden corner sanur adalah ...  \n",
              "3   ['campuhan ridge walk adalah sebuah trek joggi...  \n",
              "4   ['nominasi untuk penunjukan sebagai situs wari...  \n",
              "..                                                ...  \n",
              "70  ['pura saraswati merupakan pura yang didirikan...  \n",
              "71  ['pura taman ayun di susun dengan konsep taman...  \n",
              "72  ['tirta empul adalah nama sebuah pura hindu ya...  \n",
              "73  ['pura yang terletak di ujung barat daya pulau...  \n",
              "74  ['ada tiga hal utama yang ada di taman tirta g...  \n",
              "\n",
              "[75 rows x 10 columns]"
            ],
            "text/html": [
              "\n",
              "  <div id=\"df-dcd03d00-1fbc-4380-8189-45ae1297358f\">\n",
              "    <div class=\"colab-df-container\">\n",
              "      <div>\n",
              "<style scoped>\n",
              "    .dataframe tbody tr th:only-of-type {\n",
              "        vertical-align: middle;\n",
              "    }\n",
              "\n",
              "    .dataframe tbody tr th {\n",
              "        vertical-align: top;\n",
              "    }\n",
              "\n",
              "    .dataframe thead th {\n",
              "        text-align: right;\n",
              "    }\n",
              "</style>\n",
              "<table border=\"1\" class=\"dataframe\">\n",
              "  <thead>\n",
              "    <tr style=\"text-align: right;\">\n",
              "      <th></th>\n",
              "      <th>category</th>\n",
              "      <th>tags</th>\n",
              "      <th>weekend_price</th>\n",
              "      <th>weekday_price</th>\n",
              "      <th>distance</th>\n",
              "      <th>rating</th>\n",
              "      <th>place_name</th>\n",
              "      <th>city</th>\n",
              "      <th>image</th>\n",
              "      <th>description</th>\n",
              "    </tr>\n",
              "  </thead>\n",
              "  <tbody>\n",
              "    <tr>\n",
              "      <th>0</th>\n",
              "      <td>Agrowisata</td>\n",
              "      <td>Agrowisata Gianyar Dekat dari Bandara Mahal</td>\n",
              "      <td>50000</td>\n",
              "      <td>50000</td>\n",
              "      <td>dekat</td>\n",
              "      <td>3.0</td>\n",
              "      <td>Agrowisata Satria</td>\n",
              "      <td>Gianyar</td>\n",
              "      <td>https://drive.google.com/file/d/108VxoEhKsyV2_...</td>\n",
              "      <td>['agrowisata satria menawarkan 'rasa' bali pad...</td>\n",
              "    </tr>\n",
              "    <tr>\n",
              "      <th>1</th>\n",
              "      <td>Agrowisata</td>\n",
              "      <td>Agrowisata Gianyar Sedang dari Bandara Mahal</td>\n",
              "      <td>300000</td>\n",
              "      <td>300000</td>\n",
              "      <td>sedang</td>\n",
              "      <td>5.0</td>\n",
              "      <td>Aloha Ubud Swing</td>\n",
              "      <td>Gianyar</td>\n",
              "      <td>https://drive.google.com/file/d/1bvzte6xbyb6Ey...</td>\n",
              "      <td>['ajaklah orang-orang tercinta untuk mencoba a...</td>\n",
              "    </tr>\n",
              "    <tr>\n",
              "      <th>2</th>\n",
              "      <td>Agrowisata</td>\n",
              "      <td>Agrowisata Denpasar Dekat dari Bandara Murah</td>\n",
              "      <td>35000</td>\n",
              "      <td>30000</td>\n",
              "      <td>dekat</td>\n",
              "      <td>4.0</td>\n",
              "      <td>Big Garden Corner</td>\n",
              "      <td>Denpasar</td>\n",
              "      <td>https://drive.google.com/file/d/12UMKldf_s7zGI...</td>\n",
              "      <td>['objek wisata big garden corner sanur adalah ...</td>\n",
              "    </tr>\n",
              "    <tr>\n",
              "      <th>3</th>\n",
              "      <td>Agrowisata</td>\n",
              "      <td>Agrowisata Gianyar Dekat dari Bandara Gratis</td>\n",
              "      <td>0</td>\n",
              "      <td>0</td>\n",
              "      <td>dekat</td>\n",
              "      <td>4.5</td>\n",
              "      <td>Campuhan Ridge Walk</td>\n",
              "      <td>Gianyar</td>\n",
              "      <td>https://drive.google.com/file/d/1eVpiUN3lv1uzV...</td>\n",
              "      <td>['campuhan ridge walk adalah sebuah trek joggi...</td>\n",
              "    </tr>\n",
              "    <tr>\n",
              "      <th>4</th>\n",
              "      <td>Agrowisata</td>\n",
              "      <td>Agrowisata Tabanan Sedang dari Bandara Murah</td>\n",
              "      <td>40000</td>\n",
              "      <td>40000</td>\n",
              "      <td>sedang</td>\n",
              "      <td>4.5</td>\n",
              "      <td>Jatiluwih Green Land</td>\n",
              "      <td>Tabanan</td>\n",
              "      <td>https://drive.google.com/file/d/1vX9x5gLEmQKdg...</td>\n",
              "      <td>['nominasi untuk penunjukan sebagai situs wari...</td>\n",
              "    </tr>\n",
              "    <tr>\n",
              "      <th>...</th>\n",
              "      <td>...</td>\n",
              "      <td>...</td>\n",
              "      <td>...</td>\n",
              "      <td>...</td>\n",
              "      <td>...</td>\n",
              "      <td>...</td>\n",
              "      <td>...</td>\n",
              "      <td>...</td>\n",
              "      <td>...</td>\n",
              "      <td>...</td>\n",
              "    </tr>\n",
              "    <tr>\n",
              "      <th>70</th>\n",
              "      <td>Religius</td>\n",
              "      <td>Religius Gianyar Dekat dari Bandara Gratis</td>\n",
              "      <td>0</td>\n",
              "      <td>0</td>\n",
              "      <td>dekat</td>\n",
              "      <td>4.0</td>\n",
              "      <td>Pura Saraswati</td>\n",
              "      <td>Gianyar</td>\n",
              "      <td>https://drive.google.com/file/d/13cUb10qppNS-U...</td>\n",
              "      <td>['pura saraswati merupakan pura yang didirikan...</td>\n",
              "    </tr>\n",
              "    <tr>\n",
              "      <th>71</th>\n",
              "      <td>Religius</td>\n",
              "      <td>Religius Badung Dekat dari Bandara Murah</td>\n",
              "      <td>15000</td>\n",
              "      <td>15000</td>\n",
              "      <td>dekat</td>\n",
              "      <td>4.0</td>\n",
              "      <td>Pura Taman Ayun</td>\n",
              "      <td>Badung</td>\n",
              "      <td>https://drive.google.com/file/d/1PL_N2I8BD4Ylj...</td>\n",
              "      <td>['pura taman ayun di susun dengan konsep taman...</td>\n",
              "    </tr>\n",
              "    <tr>\n",
              "      <th>72</th>\n",
              "      <td>Religius</td>\n",
              "      <td>Religius Gianyar Sedang dari Bandara Murah</td>\n",
              "      <td>30000</td>\n",
              "      <td>30000</td>\n",
              "      <td>sedang</td>\n",
              "      <td>4.5</td>\n",
              "      <td>Pura Tirta Empul</td>\n",
              "      <td>Gianyar</td>\n",
              "      <td>https://drive.google.com/file/d/1-q6YUrkNSTtiM...</td>\n",
              "      <td>['tirta empul adalah nama sebuah pura hindu ya...</td>\n",
              "    </tr>\n",
              "    <tr>\n",
              "      <th>73</th>\n",
              "      <td>Religius</td>\n",
              "      <td>Religius Badung Dekat dari Bandara Mahal</td>\n",
              "      <td>50000</td>\n",
              "      <td>50000</td>\n",
              "      <td>dekat</td>\n",
              "      <td>4.0</td>\n",
              "      <td>Pura Uluwatu</td>\n",
              "      <td>Badung</td>\n",
              "      <td>https://drive.google.com/file/d/1-q6YUrkNSTtiM...</td>\n",
              "      <td>['pura yang terletak di ujung barat daya pulau...</td>\n",
              "    </tr>\n",
              "    <tr>\n",
              "      <th>74</th>\n",
              "      <td>Religius</td>\n",
              "      <td>Religius Karangasem Jauh dari Bandara Murah</td>\n",
              "      <td>25000</td>\n",
              "      <td>25000</td>\n",
              "      <td>jauh</td>\n",
              "      <td>4.5</td>\n",
              "      <td>Tirta Gangga</td>\n",
              "      <td>Karangasem</td>\n",
              "      <td>https://drive.google.com/file/d/11G0xeW6eAGzd1...</td>\n",
              "      <td>['ada tiga hal utama yang ada di taman tirta g...</td>\n",
              "    </tr>\n",
              "  </tbody>\n",
              "</table>\n",
              "<p>75 rows × 10 columns</p>\n",
              "</div>\n",
              "      <button class=\"colab-df-convert\" onclick=\"convertToInteractive('df-dcd03d00-1fbc-4380-8189-45ae1297358f')\"\n",
              "              title=\"Convert this dataframe to an interactive table.\"\n",
              "              style=\"display:none;\">\n",
              "        \n",
              "  <svg xmlns=\"http://www.w3.org/2000/svg\" height=\"24px\"viewBox=\"0 0 24 24\"\n",
              "       width=\"24px\">\n",
              "    <path d=\"M0 0h24v24H0V0z\" fill=\"none\"/>\n",
              "    <path d=\"M18.56 5.44l.94 2.06.94-2.06 2.06-.94-2.06-.94-.94-2.06-.94 2.06-2.06.94zm-11 1L8.5 8.5l.94-2.06 2.06-.94-2.06-.94L8.5 2.5l-.94 2.06-2.06.94zm10 10l.94 2.06.94-2.06 2.06-.94-2.06-.94-.94-2.06-.94 2.06-2.06.94z\"/><path d=\"M17.41 7.96l-1.37-1.37c-.4-.4-.92-.59-1.43-.59-.52 0-1.04.2-1.43.59L10.3 9.45l-7.72 7.72c-.78.78-.78 2.05 0 2.83L4 21.41c.39.39.9.59 1.41.59.51 0 1.02-.2 1.41-.59l7.78-7.78 2.81-2.81c.8-.78.8-2.07 0-2.86zM5.41 20L4 18.59l7.72-7.72 1.47 1.35L5.41 20z\"/>\n",
              "  </svg>\n",
              "      </button>\n",
              "      \n",
              "  <style>\n",
              "    .colab-df-container {\n",
              "      display:flex;\n",
              "      flex-wrap:wrap;\n",
              "      gap: 12px;\n",
              "    }\n",
              "\n",
              "    .colab-df-convert {\n",
              "      background-color: #E8F0FE;\n",
              "      border: none;\n",
              "      border-radius: 50%;\n",
              "      cursor: pointer;\n",
              "      display: none;\n",
              "      fill: #1967D2;\n",
              "      height: 32px;\n",
              "      padding: 0 0 0 0;\n",
              "      width: 32px;\n",
              "    }\n",
              "\n",
              "    .colab-df-convert:hover {\n",
              "      background-color: #E2EBFA;\n",
              "      box-shadow: 0px 1px 2px rgba(60, 64, 67, 0.3), 0px 1px 3px 1px rgba(60, 64, 67, 0.15);\n",
              "      fill: #174EA6;\n",
              "    }\n",
              "\n",
              "    [theme=dark] .colab-df-convert {\n",
              "      background-color: #3B4455;\n",
              "      fill: #D2E3FC;\n",
              "    }\n",
              "\n",
              "    [theme=dark] .colab-df-convert:hover {\n",
              "      background-color: #434B5C;\n",
              "      box-shadow: 0px 1px 3px 1px rgba(0, 0, 0, 0.15);\n",
              "      filter: drop-shadow(0px 1px 2px rgba(0, 0, 0, 0.3));\n",
              "      fill: #FFFFFF;\n",
              "    }\n",
              "  </style>\n",
              "\n",
              "      <script>\n",
              "        const buttonEl =\n",
              "          document.querySelector('#df-dcd03d00-1fbc-4380-8189-45ae1297358f button.colab-df-convert');\n",
              "        buttonEl.style.display =\n",
              "          google.colab.kernel.accessAllowed ? 'block' : 'none';\n",
              "\n",
              "        async function convertToInteractive(key) {\n",
              "          const element = document.querySelector('#df-dcd03d00-1fbc-4380-8189-45ae1297358f');\n",
              "          const dataTable =\n",
              "            await google.colab.kernel.invokeFunction('convertToInteractive',\n",
              "                                                     [key], {});\n",
              "          if (!dataTable) return;\n",
              "\n",
              "          const docLinkHtml = 'Like what you see? Visit the ' +\n",
              "            '<a target=\"_blank\" href=https://colab.research.google.com/notebooks/data_table.ipynb>data table notebook</a>'\n",
              "            + ' to learn more about interactive tables.';\n",
              "          element.innerHTML = '';\n",
              "          dataTable['output_type'] = 'display_data';\n",
              "          await google.colab.output.renderOutput(dataTable, element);\n",
              "          const docLink = document.createElement('div');\n",
              "          docLink.innerHTML = docLinkHtml;\n",
              "          element.appendChild(docLink);\n",
              "        }\n",
              "      </script>\n",
              "    </div>\n",
              "  </div>\n",
              "  "
            ]
          },
          "metadata": {},
          "execution_count": 14
        }
      ],
      "source": [
        "#save data\n",
        "dataset['category'] = cat\n",
        "dataset['tags'] = tag\n",
        "dataset['description'] = desc\n",
        "dataset"
      ],
      "id": "g8h8ZPXEdTJV"
    },
    {
      "cell_type": "code",
      "execution_count": null,
      "metadata": {
        "id": "-YK3fC7edd0u"
      },
      "outputs": [],
      "source": [
        "dataset.to_csv(\"wisatabali.csv\")"
      ],
      "id": "-YK3fC7edd0u"
    },
    {
      "cell_type": "markdown",
      "metadata": {
        "id": "jgRajKNCHq1S"
      },
      "source": [
        "#Recommendation"
      ],
      "id": "jgRajKNCHq1S"
    },
    {
      "cell_type": "code",
      "execution_count": null,
      "metadata": {
        "colab": {
          "base_uri": "https://localhost:8080/",
          "height": 669
        },
        "id": "r79vd6wtdnEZ",
        "outputId": "aee330d9-2a80-48e3-c4f6-3a66c0dfc0a7"
      },
      "outputs": [
        {
          "output_type": "execute_result",
          "data": {
            "text/plain": [
              "   Unnamed: 0    category                                          tags  \\\n",
              "0           0  Agrowisata   Agrowisata Gianyar Dekat dari Bandara Mahal   \n",
              "1           1  Agrowisata  Agrowisata Gianyar Sedang dari Bandara Mahal   \n",
              "2           2  Agrowisata  Agrowisata Denpasar Dekat dari Bandara Murah   \n",
              "3           3  Agrowisata  Agrowisata Gianyar Dekat dari Bandara Gratis   \n",
              "4           4  Agrowisata  Agrowisata Tabanan Sedang dari Bandara Murah   \n",
              "\n",
              "   weekend_price  weekday_price distance  rating            place_name  \\\n",
              "0          50000          50000    dekat     3.0     Agrowisata Satria   \n",
              "1         300000         300000   sedang     5.0      Aloha Ubud Swing   \n",
              "2          35000          30000    dekat     4.0     Big Garden Corner   \n",
              "3              0              0    dekat     4.5   Campuhan Ridge Walk   \n",
              "4          40000          40000   sedang     4.5  Jatiluwih Green Land   \n",
              "\n",
              "       city                                              image  \\\n",
              "0   Gianyar  https://drive.google.com/file/d/108VxoEhKsyV2_...   \n",
              "1   Gianyar  https://drive.google.com/file/d/1bvzte6xbyb6Ey...   \n",
              "2  Denpasar  https://drive.google.com/file/d/12UMKldf_s7zGI...   \n",
              "3   Gianyar  https://drive.google.com/file/d/1eVpiUN3lv1uzV...   \n",
              "4   Tabanan  https://drive.google.com/file/d/1vX9x5gLEmQKdg...   \n",
              "\n",
              "                                         description  \n",
              "0  ['agrowisata satria menawarkan 'rasa' bali pad...  \n",
              "1  ['ajaklah orang-orang tercinta untuk mencoba a...  \n",
              "2  ['objek wisata big garden corner sanur adalah ...  \n",
              "3  ['campuhan ridge walk adalah sebuah trek joggi...  \n",
              "4  ['nominasi untuk penunjukan sebagai situs wari...  "
            ],
            "text/html": [
              "\n",
              "  <div id=\"df-98e5781c-67f7-4fc0-843d-b98d056873f1\">\n",
              "    <div class=\"colab-df-container\">\n",
              "      <div>\n",
              "<style scoped>\n",
              "    .dataframe tbody tr th:only-of-type {\n",
              "        vertical-align: middle;\n",
              "    }\n",
              "\n",
              "    .dataframe tbody tr th {\n",
              "        vertical-align: top;\n",
              "    }\n",
              "\n",
              "    .dataframe thead th {\n",
              "        text-align: right;\n",
              "    }\n",
              "</style>\n",
              "<table border=\"1\" class=\"dataframe\">\n",
              "  <thead>\n",
              "    <tr style=\"text-align: right;\">\n",
              "      <th></th>\n",
              "      <th>Unnamed: 0</th>\n",
              "      <th>category</th>\n",
              "      <th>tags</th>\n",
              "      <th>weekend_price</th>\n",
              "      <th>weekday_price</th>\n",
              "      <th>distance</th>\n",
              "      <th>rating</th>\n",
              "      <th>place_name</th>\n",
              "      <th>city</th>\n",
              "      <th>image</th>\n",
              "      <th>description</th>\n",
              "    </tr>\n",
              "  </thead>\n",
              "  <tbody>\n",
              "    <tr>\n",
              "      <th>0</th>\n",
              "      <td>0</td>\n",
              "      <td>Agrowisata</td>\n",
              "      <td>Agrowisata Gianyar Dekat dari Bandara Mahal</td>\n",
              "      <td>50000</td>\n",
              "      <td>50000</td>\n",
              "      <td>dekat</td>\n",
              "      <td>3.0</td>\n",
              "      <td>Agrowisata Satria</td>\n",
              "      <td>Gianyar</td>\n",
              "      <td>https://drive.google.com/file/d/108VxoEhKsyV2_...</td>\n",
              "      <td>['agrowisata satria menawarkan 'rasa' bali pad...</td>\n",
              "    </tr>\n",
              "    <tr>\n",
              "      <th>1</th>\n",
              "      <td>1</td>\n",
              "      <td>Agrowisata</td>\n",
              "      <td>Agrowisata Gianyar Sedang dari Bandara Mahal</td>\n",
              "      <td>300000</td>\n",
              "      <td>300000</td>\n",
              "      <td>sedang</td>\n",
              "      <td>5.0</td>\n",
              "      <td>Aloha Ubud Swing</td>\n",
              "      <td>Gianyar</td>\n",
              "      <td>https://drive.google.com/file/d/1bvzte6xbyb6Ey...</td>\n",
              "      <td>['ajaklah orang-orang tercinta untuk mencoba a...</td>\n",
              "    </tr>\n",
              "    <tr>\n",
              "      <th>2</th>\n",
              "      <td>2</td>\n",
              "      <td>Agrowisata</td>\n",
              "      <td>Agrowisata Denpasar Dekat dari Bandara Murah</td>\n",
              "      <td>35000</td>\n",
              "      <td>30000</td>\n",
              "      <td>dekat</td>\n",
              "      <td>4.0</td>\n",
              "      <td>Big Garden Corner</td>\n",
              "      <td>Denpasar</td>\n",
              "      <td>https://drive.google.com/file/d/12UMKldf_s7zGI...</td>\n",
              "      <td>['objek wisata big garden corner sanur adalah ...</td>\n",
              "    </tr>\n",
              "    <tr>\n",
              "      <th>3</th>\n",
              "      <td>3</td>\n",
              "      <td>Agrowisata</td>\n",
              "      <td>Agrowisata Gianyar Dekat dari Bandara Gratis</td>\n",
              "      <td>0</td>\n",
              "      <td>0</td>\n",
              "      <td>dekat</td>\n",
              "      <td>4.5</td>\n",
              "      <td>Campuhan Ridge Walk</td>\n",
              "      <td>Gianyar</td>\n",
              "      <td>https://drive.google.com/file/d/1eVpiUN3lv1uzV...</td>\n",
              "      <td>['campuhan ridge walk adalah sebuah trek joggi...</td>\n",
              "    </tr>\n",
              "    <tr>\n",
              "      <th>4</th>\n",
              "      <td>4</td>\n",
              "      <td>Agrowisata</td>\n",
              "      <td>Agrowisata Tabanan Sedang dari Bandara Murah</td>\n",
              "      <td>40000</td>\n",
              "      <td>40000</td>\n",
              "      <td>sedang</td>\n",
              "      <td>4.5</td>\n",
              "      <td>Jatiluwih Green Land</td>\n",
              "      <td>Tabanan</td>\n",
              "      <td>https://drive.google.com/file/d/1vX9x5gLEmQKdg...</td>\n",
              "      <td>['nominasi untuk penunjukan sebagai situs wari...</td>\n",
              "    </tr>\n",
              "  </tbody>\n",
              "</table>\n",
              "</div>\n",
              "      <button class=\"colab-df-convert\" onclick=\"convertToInteractive('df-98e5781c-67f7-4fc0-843d-b98d056873f1')\"\n",
              "              title=\"Convert this dataframe to an interactive table.\"\n",
              "              style=\"display:none;\">\n",
              "        \n",
              "  <svg xmlns=\"http://www.w3.org/2000/svg\" height=\"24px\"viewBox=\"0 0 24 24\"\n",
              "       width=\"24px\">\n",
              "    <path d=\"M0 0h24v24H0V0z\" fill=\"none\"/>\n",
              "    <path d=\"M18.56 5.44l.94 2.06.94-2.06 2.06-.94-2.06-.94-.94-2.06-.94 2.06-2.06.94zm-11 1L8.5 8.5l.94-2.06 2.06-.94-2.06-.94L8.5 2.5l-.94 2.06-2.06.94zm10 10l.94 2.06.94-2.06 2.06-.94-2.06-.94-.94-2.06-.94 2.06-2.06.94z\"/><path d=\"M17.41 7.96l-1.37-1.37c-.4-.4-.92-.59-1.43-.59-.52 0-1.04.2-1.43.59L10.3 9.45l-7.72 7.72c-.78.78-.78 2.05 0 2.83L4 21.41c.39.39.9.59 1.41.59.51 0 1.02-.2 1.41-.59l7.78-7.78 2.81-2.81c.8-.78.8-2.07 0-2.86zM5.41 20L4 18.59l7.72-7.72 1.47 1.35L5.41 20z\"/>\n",
              "  </svg>\n",
              "      </button>\n",
              "      \n",
              "  <style>\n",
              "    .colab-df-container {\n",
              "      display:flex;\n",
              "      flex-wrap:wrap;\n",
              "      gap: 12px;\n",
              "    }\n",
              "\n",
              "    .colab-df-convert {\n",
              "      background-color: #E8F0FE;\n",
              "      border: none;\n",
              "      border-radius: 50%;\n",
              "      cursor: pointer;\n",
              "      display: none;\n",
              "      fill: #1967D2;\n",
              "      height: 32px;\n",
              "      padding: 0 0 0 0;\n",
              "      width: 32px;\n",
              "    }\n",
              "\n",
              "    .colab-df-convert:hover {\n",
              "      background-color: #E2EBFA;\n",
              "      box-shadow: 0px 1px 2px rgba(60, 64, 67, 0.3), 0px 1px 3px 1px rgba(60, 64, 67, 0.15);\n",
              "      fill: #174EA6;\n",
              "    }\n",
              "\n",
              "    [theme=dark] .colab-df-convert {\n",
              "      background-color: #3B4455;\n",
              "      fill: #D2E3FC;\n",
              "    }\n",
              "\n",
              "    [theme=dark] .colab-df-convert:hover {\n",
              "      background-color: #434B5C;\n",
              "      box-shadow: 0px 1px 3px 1px rgba(0, 0, 0, 0.15);\n",
              "      filter: drop-shadow(0px 1px 2px rgba(0, 0, 0, 0.3));\n",
              "      fill: #FFFFFF;\n",
              "    }\n",
              "  </style>\n",
              "\n",
              "      <script>\n",
              "        const buttonEl =\n",
              "          document.querySelector('#df-98e5781c-67f7-4fc0-843d-b98d056873f1 button.colab-df-convert');\n",
              "        buttonEl.style.display =\n",
              "          google.colab.kernel.accessAllowed ? 'block' : 'none';\n",
              "\n",
              "        async function convertToInteractive(key) {\n",
              "          const element = document.querySelector('#df-98e5781c-67f7-4fc0-843d-b98d056873f1');\n",
              "          const dataTable =\n",
              "            await google.colab.kernel.invokeFunction('convertToInteractive',\n",
              "                                                     [key], {});\n",
              "          if (!dataTable) return;\n",
              "\n",
              "          const docLinkHtml = 'Like what you see? Visit the ' +\n",
              "            '<a target=\"_blank\" href=https://colab.research.google.com/notebooks/data_table.ipynb>data table notebook</a>'\n",
              "            + ' to learn more about interactive tables.';\n",
              "          element.innerHTML = '';\n",
              "          dataTable['output_type'] = 'display_data';\n",
              "          await google.colab.output.renderOutput(dataTable, element);\n",
              "          const docLink = document.createElement('div');\n",
              "          docLink.innerHTML = docLinkHtml;\n",
              "          element.appendChild(docLink);\n",
              "        }\n",
              "      </script>\n",
              "    </div>\n",
              "  </div>\n",
              "  "
            ]
          },
          "metadata": {},
          "execution_count": 16
        }
      ],
      "source": [
        "# loading the data from the csv file to apandas dataframe\n",
        "dataset = pd.read_csv(\"wisatabali.csv\").dropna()\n",
        "dataset.head()"
      ],
      "id": "r79vd6wtdnEZ"
    },
    {
      "cell_type": "code",
      "execution_count": null,
      "metadata": {
        "id": "024c0643"
      },
      "outputs": [],
      "source": [
        "def important_features(dataset):\n",
        "    data=dataset.copy()\n",
        "    for i in range(0, dataset.shape[0]):\n",
        "        data[\"imp\"]= data[\"category\"]+\" \"+data[\"tags\"]\n",
        "    return data\n"
      ],
      "id": "024c0643"
    },
    {
      "cell_type": "code",
      "execution_count": null,
      "metadata": {
        "id": "87b48772"
      },
      "outputs": [],
      "source": [
        "data=important_features(dataset)"
      ],
      "id": "87b48772"
    },
    {
      "cell_type": "code",
      "execution_count": null,
      "metadata": {
        "colab": {
          "base_uri": "https://localhost:8080/",
          "height": 669
        },
        "id": "f7d434fa",
        "outputId": "a1d14c36-710b-4b58-a550-50284d8b8c13"
      },
      "outputs": [
        {
          "output_type": "execute_result",
          "data": {
            "text/plain": [
              "   Unnamed: 0    category                                          tags  \\\n",
              "0           0  Agrowisata   Agrowisata Gianyar Dekat dari Bandara Mahal   \n",
              "1           1  Agrowisata  Agrowisata Gianyar Sedang dari Bandara Mahal   \n",
              "2           2  Agrowisata  Agrowisata Denpasar Dekat dari Bandara Murah   \n",
              "3           3  Agrowisata  Agrowisata Gianyar Dekat dari Bandara Gratis   \n",
              "4           4  Agrowisata  Agrowisata Tabanan Sedang dari Bandara Murah   \n",
              "\n",
              "   weekend_price  weekday_price distance  rating            place_name  \\\n",
              "0          50000          50000    dekat     3.0     Agrowisata Satria   \n",
              "1         300000         300000   sedang     5.0      Aloha Ubud Swing   \n",
              "2          35000          30000    dekat     4.0     Big Garden Corner   \n",
              "3              0              0    dekat     4.5   Campuhan Ridge Walk   \n",
              "4          40000          40000   sedang     4.5  Jatiluwih Green Land   \n",
              "\n",
              "       city                                              image  \\\n",
              "0   Gianyar  https://drive.google.com/file/d/108VxoEhKsyV2_...   \n",
              "1   Gianyar  https://drive.google.com/file/d/1bvzte6xbyb6Ey...   \n",
              "2  Denpasar  https://drive.google.com/file/d/12UMKldf_s7zGI...   \n",
              "3   Gianyar  https://drive.google.com/file/d/1eVpiUN3lv1uzV...   \n",
              "4   Tabanan  https://drive.google.com/file/d/1vX9x5gLEmQKdg...   \n",
              "\n",
              "                                         description  \\\n",
              "0  ['agrowisata satria menawarkan 'rasa' bali pad...   \n",
              "1  ['ajaklah orang-orang tercinta untuk mencoba a...   \n",
              "2  ['objek wisata big garden corner sanur adalah ...   \n",
              "3  ['campuhan ridge walk adalah sebuah trek joggi...   \n",
              "4  ['nominasi untuk penunjukan sebagai situs wari...   \n",
              "\n",
              "                                                 imp  \n",
              "0  Agrowisata Agrowisata Gianyar Dekat dari Banda...  \n",
              "1  Agrowisata Agrowisata Gianyar Sedang dari Band...  \n",
              "2  Agrowisata Agrowisata Denpasar Dekat dari Band...  \n",
              "3  Agrowisata Agrowisata Gianyar Dekat dari Banda...  \n",
              "4  Agrowisata Agrowisata Tabanan Sedang dari Band...  "
            ],
            "text/html": [
              "\n",
              "  <div id=\"df-6bfec47a-3faa-4f1c-b914-c94ed7f4ff15\">\n",
              "    <div class=\"colab-df-container\">\n",
              "      <div>\n",
              "<style scoped>\n",
              "    .dataframe tbody tr th:only-of-type {\n",
              "        vertical-align: middle;\n",
              "    }\n",
              "\n",
              "    .dataframe tbody tr th {\n",
              "        vertical-align: top;\n",
              "    }\n",
              "\n",
              "    .dataframe thead th {\n",
              "        text-align: right;\n",
              "    }\n",
              "</style>\n",
              "<table border=\"1\" class=\"dataframe\">\n",
              "  <thead>\n",
              "    <tr style=\"text-align: right;\">\n",
              "      <th></th>\n",
              "      <th>Unnamed: 0</th>\n",
              "      <th>category</th>\n",
              "      <th>tags</th>\n",
              "      <th>weekend_price</th>\n",
              "      <th>weekday_price</th>\n",
              "      <th>distance</th>\n",
              "      <th>rating</th>\n",
              "      <th>place_name</th>\n",
              "      <th>city</th>\n",
              "      <th>image</th>\n",
              "      <th>description</th>\n",
              "      <th>imp</th>\n",
              "    </tr>\n",
              "  </thead>\n",
              "  <tbody>\n",
              "    <tr>\n",
              "      <th>0</th>\n",
              "      <td>0</td>\n",
              "      <td>Agrowisata</td>\n",
              "      <td>Agrowisata Gianyar Dekat dari Bandara Mahal</td>\n",
              "      <td>50000</td>\n",
              "      <td>50000</td>\n",
              "      <td>dekat</td>\n",
              "      <td>3.0</td>\n",
              "      <td>Agrowisata Satria</td>\n",
              "      <td>Gianyar</td>\n",
              "      <td>https://drive.google.com/file/d/108VxoEhKsyV2_...</td>\n",
              "      <td>['agrowisata satria menawarkan 'rasa' bali pad...</td>\n",
              "      <td>Agrowisata Agrowisata Gianyar Dekat dari Banda...</td>\n",
              "    </tr>\n",
              "    <tr>\n",
              "      <th>1</th>\n",
              "      <td>1</td>\n",
              "      <td>Agrowisata</td>\n",
              "      <td>Agrowisata Gianyar Sedang dari Bandara Mahal</td>\n",
              "      <td>300000</td>\n",
              "      <td>300000</td>\n",
              "      <td>sedang</td>\n",
              "      <td>5.0</td>\n",
              "      <td>Aloha Ubud Swing</td>\n",
              "      <td>Gianyar</td>\n",
              "      <td>https://drive.google.com/file/d/1bvzte6xbyb6Ey...</td>\n",
              "      <td>['ajaklah orang-orang tercinta untuk mencoba a...</td>\n",
              "      <td>Agrowisata Agrowisata Gianyar Sedang dari Band...</td>\n",
              "    </tr>\n",
              "    <tr>\n",
              "      <th>2</th>\n",
              "      <td>2</td>\n",
              "      <td>Agrowisata</td>\n",
              "      <td>Agrowisata Denpasar Dekat dari Bandara Murah</td>\n",
              "      <td>35000</td>\n",
              "      <td>30000</td>\n",
              "      <td>dekat</td>\n",
              "      <td>4.0</td>\n",
              "      <td>Big Garden Corner</td>\n",
              "      <td>Denpasar</td>\n",
              "      <td>https://drive.google.com/file/d/12UMKldf_s7zGI...</td>\n",
              "      <td>['objek wisata big garden corner sanur adalah ...</td>\n",
              "      <td>Agrowisata Agrowisata Denpasar Dekat dari Band...</td>\n",
              "    </tr>\n",
              "    <tr>\n",
              "      <th>3</th>\n",
              "      <td>3</td>\n",
              "      <td>Agrowisata</td>\n",
              "      <td>Agrowisata Gianyar Dekat dari Bandara Gratis</td>\n",
              "      <td>0</td>\n",
              "      <td>0</td>\n",
              "      <td>dekat</td>\n",
              "      <td>4.5</td>\n",
              "      <td>Campuhan Ridge Walk</td>\n",
              "      <td>Gianyar</td>\n",
              "      <td>https://drive.google.com/file/d/1eVpiUN3lv1uzV...</td>\n",
              "      <td>['campuhan ridge walk adalah sebuah trek joggi...</td>\n",
              "      <td>Agrowisata Agrowisata Gianyar Dekat dari Banda...</td>\n",
              "    </tr>\n",
              "    <tr>\n",
              "      <th>4</th>\n",
              "      <td>4</td>\n",
              "      <td>Agrowisata</td>\n",
              "      <td>Agrowisata Tabanan Sedang dari Bandara Murah</td>\n",
              "      <td>40000</td>\n",
              "      <td>40000</td>\n",
              "      <td>sedang</td>\n",
              "      <td>4.5</td>\n",
              "      <td>Jatiluwih Green Land</td>\n",
              "      <td>Tabanan</td>\n",
              "      <td>https://drive.google.com/file/d/1vX9x5gLEmQKdg...</td>\n",
              "      <td>['nominasi untuk penunjukan sebagai situs wari...</td>\n",
              "      <td>Agrowisata Agrowisata Tabanan Sedang dari Band...</td>\n",
              "    </tr>\n",
              "  </tbody>\n",
              "</table>\n",
              "</div>\n",
              "      <button class=\"colab-df-convert\" onclick=\"convertToInteractive('df-6bfec47a-3faa-4f1c-b914-c94ed7f4ff15')\"\n",
              "              title=\"Convert this dataframe to an interactive table.\"\n",
              "              style=\"display:none;\">\n",
              "        \n",
              "  <svg xmlns=\"http://www.w3.org/2000/svg\" height=\"24px\"viewBox=\"0 0 24 24\"\n",
              "       width=\"24px\">\n",
              "    <path d=\"M0 0h24v24H0V0z\" fill=\"none\"/>\n",
              "    <path d=\"M18.56 5.44l.94 2.06.94-2.06 2.06-.94-2.06-.94-.94-2.06-.94 2.06-2.06.94zm-11 1L8.5 8.5l.94-2.06 2.06-.94-2.06-.94L8.5 2.5l-.94 2.06-2.06.94zm10 10l.94 2.06.94-2.06 2.06-.94-2.06-.94-.94-2.06-.94 2.06-2.06.94z\"/><path d=\"M17.41 7.96l-1.37-1.37c-.4-.4-.92-.59-1.43-.59-.52 0-1.04.2-1.43.59L10.3 9.45l-7.72 7.72c-.78.78-.78 2.05 0 2.83L4 21.41c.39.39.9.59 1.41.59.51 0 1.02-.2 1.41-.59l7.78-7.78 2.81-2.81c.8-.78.8-2.07 0-2.86zM5.41 20L4 18.59l7.72-7.72 1.47 1.35L5.41 20z\"/>\n",
              "  </svg>\n",
              "      </button>\n",
              "      \n",
              "  <style>\n",
              "    .colab-df-container {\n",
              "      display:flex;\n",
              "      flex-wrap:wrap;\n",
              "      gap: 12px;\n",
              "    }\n",
              "\n",
              "    .colab-df-convert {\n",
              "      background-color: #E8F0FE;\n",
              "      border: none;\n",
              "      border-radius: 50%;\n",
              "      cursor: pointer;\n",
              "      display: none;\n",
              "      fill: #1967D2;\n",
              "      height: 32px;\n",
              "      padding: 0 0 0 0;\n",
              "      width: 32px;\n",
              "    }\n",
              "\n",
              "    .colab-df-convert:hover {\n",
              "      background-color: #E2EBFA;\n",
              "      box-shadow: 0px 1px 2px rgba(60, 64, 67, 0.3), 0px 1px 3px 1px rgba(60, 64, 67, 0.15);\n",
              "      fill: #174EA6;\n",
              "    }\n",
              "\n",
              "    [theme=dark] .colab-df-convert {\n",
              "      background-color: #3B4455;\n",
              "      fill: #D2E3FC;\n",
              "    }\n",
              "\n",
              "    [theme=dark] .colab-df-convert:hover {\n",
              "      background-color: #434B5C;\n",
              "      box-shadow: 0px 1px 3px 1px rgba(0, 0, 0, 0.15);\n",
              "      filter: drop-shadow(0px 1px 2px rgba(0, 0, 0, 0.3));\n",
              "      fill: #FFFFFF;\n",
              "    }\n",
              "  </style>\n",
              "\n",
              "      <script>\n",
              "        const buttonEl =\n",
              "          document.querySelector('#df-6bfec47a-3faa-4f1c-b914-c94ed7f4ff15 button.colab-df-convert');\n",
              "        buttonEl.style.display =\n",
              "          google.colab.kernel.accessAllowed ? 'block' : 'none';\n",
              "\n",
              "        async function convertToInteractive(key) {\n",
              "          const element = document.querySelector('#df-6bfec47a-3faa-4f1c-b914-c94ed7f4ff15');\n",
              "          const dataTable =\n",
              "            await google.colab.kernel.invokeFunction('convertToInteractive',\n",
              "                                                     [key], {});\n",
              "          if (!dataTable) return;\n",
              "\n",
              "          const docLinkHtml = 'Like what you see? Visit the ' +\n",
              "            '<a target=\"_blank\" href=https://colab.research.google.com/notebooks/data_table.ipynb>data table notebook</a>'\n",
              "            + ' to learn more about interactive tables.';\n",
              "          element.innerHTML = '';\n",
              "          dataTable['output_type'] = 'display_data';\n",
              "          await google.colab.output.renderOutput(dataTable, element);\n",
              "          const docLink = document.createElement('div');\n",
              "          docLink.innerHTML = docLinkHtml;\n",
              "          element.appendChild(docLink);\n",
              "        }\n",
              "      </script>\n",
              "    </div>\n",
              "  </div>\n",
              "  "
            ]
          },
          "metadata": {},
          "execution_count": 19
        }
      ],
      "source": [
        "data.head()"
      ],
      "id": "f7d434fa"
    },
    {
      "cell_type": "code",
      "execution_count": null,
      "metadata": {
        "id": "25dca716"
      },
      "outputs": [],
      "source": [
        "data[\"ids\"]=[i for i in range(0,data.shape[0])]"
      ],
      "id": "25dca716"
    },
    {
      "cell_type": "markdown",
      "metadata": {
        "id": "oU_1k4heH0Kc"
      },
      "source": [
        "##Importing vectoriser"
      ],
      "id": "oU_1k4heH0Kc"
    },
    {
      "cell_type": "code",
      "execution_count": null,
      "metadata": {
        "id": "76bfc1ca"
      },
      "outputs": [],
      "source": [
        "from sklearn.feature_extraction.text import TfidfVectorizer\n",
        "import numpy as np\n",
        "vec=TfidfVectorizer()"
      ],
      "id": "76bfc1ca"
    },
    {
      "cell_type": "code",
      "execution_count": null,
      "metadata": {
        "id": "963e52fd"
      },
      "outputs": [],
      "source": [
        "vecs=vec.fit_transform(data[\"imp\"].apply(lambda x: np.str_(x)))"
      ],
      "id": "963e52fd"
    },
    {
      "cell_type": "code",
      "execution_count": null,
      "metadata": {
        "colab": {
          "base_uri": "https://localhost:8080/"
        },
        "id": "ba3206a6",
        "outputId": "292ce41d-acae-4267-f09f-f500e982f1a7"
      },
      "outputs": [
        {
          "output_type": "execute_result",
          "data": {
            "text/plain": [
              "(75, 22)"
            ]
          },
          "metadata": {},
          "execution_count": 23
        }
      ],
      "source": [
        "vecs.shape"
      ],
      "id": "ba3206a6"
    },
    {
      "cell_type": "code",
      "execution_count": null,
      "metadata": {
        "id": "694de2ba"
      },
      "outputs": [],
      "source": [
        "from sklearn.metrics.pairwise import cosine_similarity"
      ],
      "id": "694de2ba"
    },
    {
      "cell_type": "code",
      "execution_count": null,
      "metadata": {
        "colab": {
          "base_uri": "https://localhost:8080/"
        },
        "id": "6b7bfd07",
        "outputId": "2cbb3804-5cf8-436d-ccad-f098c7bbc29e"
      },
      "outputs": [
        {
          "output_type": "stream",
          "name": "stdout",
          "text": [
            "[[1.         0.94080748 0.74973552 ... 0.14489381 0.22954495 0.03596026]\n",
            " [0.94080748 1.         0.69742859 ... 0.23535769 0.18249954 0.03517785]\n",
            " [0.74973552 0.69742859 1.         ... 0.09844467 0.0801377  0.0857113 ]\n",
            " ...\n",
            " [0.14489381 0.23535769 0.09844467 ... 1.         0.68465895 0.67118511]\n",
            " [0.22954495 0.18249954 0.0801377  ... 0.68465895 1.         0.59610147]\n",
            " [0.03596026 0.03517785 0.0857113  ... 0.67118511 0.59610147 1.        ]]\n"
          ]
        }
      ],
      "source": [
        "sim=cosine_similarity(vecs) \n",
        "print(sim)"
      ],
      "id": "6b7bfd07"
    },
    {
      "cell_type": "code",
      "execution_count": null,
      "metadata": {
        "colab": {
          "base_uri": "https://localhost:8080/"
        },
        "id": "6f83c43b",
        "outputId": "9169673e-652e-490e-bb4a-7dff50ee3ba9"
      },
      "outputs": [
        {
          "output_type": "execute_result",
          "data": {
            "text/plain": [
              "(75, 75)"
            ]
          },
          "metadata": {},
          "execution_count": 26
        }
      ],
      "source": [
        "sim.shape##Columns represnt movie-ids and not rows"
      ],
      "id": "6f83c43b"
    },
    {
      "cell_type": "code",
      "execution_count": null,
      "metadata": {
        "colab": {
          "base_uri": "https://localhost:8080/"
        },
        "id": "384eb756",
        "outputId": "30d6eecb-9e73-4162-870d-3edc2a57b295"
      },
      "outputs": [
        {
          "output_type": "execute_result",
          "data": {
            "text/plain": [
              "0.03596026028903452"
            ]
          },
          "metadata": {},
          "execution_count": 27
        }
      ],
      "source": [
        "sim[0][74]"
      ],
      "id": "384eb756"
    },
    {
      "cell_type": "code",
      "execution_count": null,
      "metadata": {
        "id": "4850392d"
      },
      "outputs": [],
      "source": [
        "def recommend(place):\n",
        "    place_id=data[data.category==place][\"ids\"].values[0]\n",
        "    scores=list(enumerate(sim[place_id]))\n",
        "    sorted_scores=sorted(scores,key=lambda x:x[1],reverse=True)\n",
        "    sorted_scores=sorted_scores[0:5]\n",
        "    place=[data[place[0]==data[\"ids\"]][\"place_name\"].values[0] for place in sorted_scores]\n",
        "    return place"
      ],
      "id": "4850392d"
    },
    {
      "cell_type": "code",
      "execution_count": null,
      "metadata": {
        "id": "4a3ac27c"
      },
      "outputs": [],
      "source": [
        "def recommend_ten(place_list):\n",
        "    first_five=[]\n",
        "    count=0\n",
        "    for place in place_list:\n",
        "        if count > 4:\n",
        "            break\n",
        "        count+=1\n",
        "        first_five.append(place)\n",
        "    return first_five\n",
        "\n"
      ],
      "id": "4a3ac27c"
    },
    {
      "cell_type": "code",
      "execution_count": null,
      "metadata": {
        "colab": {
          "base_uri": "https://localhost:8080/"
        },
        "id": "120117e7",
        "outputId": "54e9b65c-a27b-4924-d025-62a38f8ed0fc"
      },
      "outputs": [
        {
          "name": "stdout",
          "output_type": "stream",
          "text": [
            "Enter your category : Alam\n"
          ]
        },
        {
          "output_type": "execute_result",
          "data": {
            "text/plain": [
              "['Wisata Air Panas Toya Bungkah',\n",
              " 'Air Terjun Tukad Cepung',\n",
              " 'Danau Batur',\n",
              " 'Gunung Batur',\n",
              " 'Bukit Wanagiri']"
            ]
          },
          "metadata": {},
          "execution_count": 31
        }
      ],
      "source": [
        "categ = input('Enter your category : ')\n",
        "lst=recommend(categ)\n",
        "m=recommend_ten(lst)\n",
        "m"
      ],
      "id": "120117e7"
    },
    {
      "cell_type": "markdown",
      "source": [
        "##save data"
      ],
      "metadata": {
        "id": "6nlkpNRBFTUZ"
      },
      "id": "6nlkpNRBFTUZ"
    },
    {
      "cell_type": "code",
      "execution_count": null,
      "metadata": {
        "id": "8PWPC6u8fyj5"
      },
      "outputs": [],
      "source": [
        "# Save dataframe\n",
        "pickle.dump(data.to_dict(), open('rec_wisata.pkl', 'wb'))"
      ],
      "id": "8PWPC6u8fyj5"
    },
    {
      "cell_type": "code",
      "execution_count": null,
      "metadata": {
        "id": "Scq246GtpmS-"
      },
      "outputs": [],
      "source": [
        "# Save similarity\n",
        "pickle.dump(sim, open('similarity.pkl', 'wb'))"
      ],
      "id": "Scq246GtpmS-"
    }
  ],
  "metadata": {
    "colab": {
      "provenance": []
    },
    "kernelspec": {
      "display_name": "Python 3",
      "language": "python",
      "name": "python3"
    },
    "language_info": {
      "codemirror_mode": {
        "name": "ipython",
        "version": 3
      },
      "file_extension": ".py",
      "mimetype": "text/x-python",
      "name": "python",
      "nbconvert_exporter": "python",
      "pygments_lexer": "ipython3",
      "version": "3.8.8"
    }
  },
  "nbformat": 4,
  "nbformat_minor": 5
}